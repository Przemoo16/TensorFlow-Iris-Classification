{
 "cells": [
  {
   "cell_type": "markdown",
   "metadata": {},
   "source": [
    "# Irises Classification"
   ]
  },
  {
   "cell_type": "code",
   "execution_count": 1,
   "metadata": {},
   "outputs": [],
   "source": [
    "import tensorflow as tf\n",
    "import numpy as np\n",
    "import pandas as pd\n",
    "import matplotlib.pyplot as plt\n",
    "from sklearn.preprocessing import StandardScaler"
   ]
  },
  {
   "cell_type": "markdown",
   "metadata": {},
   "source": [
    "## PREPARE DATA"
   ]
  },
  {
   "cell_type": "code",
   "execution_count": 2,
   "metadata": {},
   "outputs": [],
   "source": [
    "#Load dataset\n",
    "dataset = pd.read_csv(\"Dataset/iris.data\",header = None)\n",
    "#Grab values\n",
    "dataset = dataset.values\n",
    "#Shuffle dataset\n",
    "np.random.shuffle(dataset)\n",
    "#First 100 samples are training dataset\n",
    "train = dataset[:100]\n",
    "#Other samples are test dataset\n",
    "test = dataset[100:]\n",
    "#Grab features\n",
    "train_features = train[:,:4]\n",
    "test_features = test[:,:4]\n",
    "#Grab labels\n",
    "train_labels = train[:,-1]\n",
    "test_labels = test[:,-1]\n",
    "\n",
    "#Change categorical labels to numbers\n",
    "#Train labels\n",
    "for index, item in enumerate(train_labels):\n",
    "    if item == 'Iris-setosa':\n",
    "        train_labels[index] = 0\n",
    "    elif item == 'Iris-versicolor':\n",
    "        train_labels[index] = 1\n",
    "    elif item == 'Iris-virginica':\n",
    "        train_labels[index] = 2\n",
    "#Test labels\n",
    "for index, item in enumerate(test_labels):\n",
    "    if item == 'Iris-setosa':\n",
    "        test_labels[index] = 0\n",
    "    elif item == 'Iris-versicolor':\n",
    "        test_labels[index] = 1\n",
    "    elif item == 'Iris-virginica':\n",
    "        test_labels[index] = 2"
   ]
  },
  {
   "cell_type": "code",
   "execution_count": 3,
   "metadata": {},
   "outputs": [],
   "source": [
    "#Change labels type from object to int\n",
    "train_labels = train_labels.astype(np.int32)\n",
    "test_labels = test_labels.astype(np.int32)"
   ]
  },
  {
   "cell_type": "code",
   "execution_count": null,
   "metadata": {},
   "outputs": [],
   "source": [
    "#Standardize features\n",
    "scaler = StandardScaler()\n",
    "scaler.fit(train_features)\n",
    "train_features = scaler.transform(train_features)\n",
    "test_features = scaler.transform(test_features)"
   ]
  },
  {
   "cell_type": "code",
   "execution_count": 5,
   "metadata": {},
   "outputs": [],
   "source": [
    "#Create hot-encode vector\n",
    "train_hot_encode = np.zeros((len(train_labels), 3))\n",
    "train_hot_encode[np.arange(len(train_labels)), train_labels] = 1\n",
    "\n",
    "test_hot_encode = np.zeros((len(test_labels), 3))\n",
    "test_hot_encode[np.arange(len(test_labels)), test_labels] = 1"
   ]
  },
  {
   "cell_type": "markdown",
   "metadata": {},
   "source": [
    "## CREATE MODEL"
   ]
  },
  {
   "cell_type": "code",
   "execution_count": 6,
   "metadata": {},
   "outputs": [],
   "source": [
    "#Number of neurons in each layers\n",
    "Input = 4\n",
    "Hidden = 8\n",
    "Output = 3"
   ]
  },
  {
   "cell_type": "code",
   "execution_count": 7,
   "metadata": {},
   "outputs": [],
   "source": [
    "#Placeholders\n",
    "X = tf.placeholder(tf.float32, [None, Input])\n",
    "Y_true = tf.placeholder(tf.float32, [None, Output])"
   ]
  },
  {
   "cell_type": "code",
   "execution_count": 8,
   "metadata": {},
   "outputs": [],
   "source": [
    "#Weights and biases\n",
    "W1 = tf.Variable(tf.truncated_normal([Input, Hidden], stddev=0.1))\n",
    "b1 = tf.Variable(tf.zeros([Hidden]))\n",
    "\n",
    "W2 = tf.Variable(tf.truncated_normal([Hidden, Output], stddev=0.1))\n",
    "b2 = tf.Variable(tf.zeros([Output]))"
   ]
  },
  {
   "cell_type": "code",
   "execution_count": 11,
   "metadata": {},
   "outputs": [],
   "source": [
    "#Create layers\n",
    "Y1 = tf.nn.relu(tf.matmul(X, W1) + b1)\n",
    "\n",
    "#Softmax\n",
    "Ylogits = tf.matmul(Y1, W2) + b2\n",
    "Y = tf.nn.softmax(Ylogits)"
   ]
  },
  {
   "cell_type": "code",
   "execution_count": 12,
   "metadata": {},
   "outputs": [],
   "source": [
    "#Loss function\n",
    "cross_entropy = tf.nn.softmax_cross_entropy_with_logits_v2(logits=Ylogits, labels=Y_true)\n",
    "cross_entropy = tf.reduce_mean(cross_entropy)\n",
    "                                                          \n",
    "#Accuracy\n",
    "correct_prediction = tf.equal(tf.argmax(Y, 1), tf.argmax(Y_true, 1))\n",
    "accuracy = tf.reduce_mean(tf.cast(correct_prediction, tf.float32))\n",
    "\n",
    "#Optimizer\n",
    "train_step = tf.train.AdamOptimizer(learning_rate=0.003).minimize(cross_entropy)"
   ]
  },
  {
   "cell_type": "markdown",
   "metadata": {},
   "source": [
    "## TRAIN MODEL"
   ]
  },
  {
   "cell_type": "code",
   "execution_count": null,
   "metadata": {},
   "outputs": [],
   "source": [
    "#Epochs and batch size\n",
    "num_epochs = 500\n",
    "batchsize= 100\n",
    "\n",
    "#Init global variables\n",
    "init = tf.global_variables_initializer()\n",
    "\n",
    "#Empty lists to plots\n",
    "train_losses = list()\n",
    "train_acc = list()\n",
    "test_losses = list()\n",
    "test_acc = list()\n",
    "\n",
    "#Create session\n",
    "with tf.Session() as sess:\n",
    "    sess.run(init)\n",
    "    for epoch in range(num_epochs):\n",
    "        for i in range(0,len(train_features),batchsize):\n",
    "            batch_X_train =train_features[i:i+batchsize]\n",
    "            batch_Y_train =train_hot_encode[i:i+batchsize]\n",
    "            \n",
    "            #Two lines to visualization data (not to training)\n",
    "            acc_trn, loss_trn = sess.run([accuracy, cross_entropy], feed_dict={X: batch_X_train, Y_true: batch_Y_train})\n",
    "            acc_tst, loss_tst = sess.run([accuracy, cross_entropy], feed_dict={X: test_features, Y_true: test_hot_encode})\n",
    "            \n",
    "            #Print statistics\n",
    "            print(\"epoch{0} #{1} Trn acc={2:2.3f} , Trn loss={3:3.3f} Tst acc={4:2.3f} , Tst loss={5:3.3f}\".format(epoch,i,acc_trn,loss_trn,acc_tst,loss_tst))\n",
    "                \n",
    "            #Add accuracy and loss to lists\n",
    "            train_losses.append(loss_trn)\n",
    "            train_acc.append(acc_trn)\n",
    "            test_losses.append(loss_tst)\n",
    "            test_acc.append(acc_tst)\n",
    "            \n",
    "            #TRAIN MODEL\n",
    "            sess.run(train_step, feed_dict={X: batch_X_train, Y_true: batch_Y_train})"
   ]
  },
  {
   "cell_type": "markdown",
   "metadata": {},
   "source": [
    "## PLOTS"
   ]
  },
  {
   "cell_type": "code",
   "execution_count": 14,
   "metadata": {},
   "outputs": [
    {
     "data": {
      "image/png": "[encoded data removed]",
      "text/plain": [
       "<Figure size 720x720 with 4 Axes>"
      ]
     },
     "metadata": {},
     "output_type": "display_data"
    }
   ],
   "source": [
    "#Plots\n",
    "fig = plt.figure(figsize=(10,10)) \n",
    "plt.subplot(2,2,1)\n",
    "plt.title('Train accuracy: %f' %train_acc[-1])\n",
    "plt.plot(range(len(train_acc)), train_acc, color='r')\n",
    "plt.subplot(2,2,2)\n",
    "plt.title('Train loss: %f' %train_losses[-1])\n",
    "plt.plot(range(len(train_losses)), train_losses)\n",
    "plt.subplot(2,2,3)\n",
    "plt.title('Test accuracy: %f' %test_acc[-1])\n",
    "plt.plot(range(len(test_acc)), test_acc, color='r')\n",
    "plt.subplot(2,2,4)\n",
    "plt.title('Test loss: %f' %test_losses[-1])\n",
    "plt.plot(range(len(test_losses)), test_losses)\n",
    "plt.tight_layout()"
   ]
  }
 ],
 "metadata": {
  "kernelspec": {
   "display_name": "Python 3",
   "language": "python",
   "name": "python3"
  },
  "language_info": {
   "codemirror_mode": {
    "name": "ipython",
    "version": 3
   },
   "file_extension": ".py",
   "mimetype": "text/x-python",
   "name": "python",
   "nbconvert_exporter": "python",
   "pygments_lexer": "ipython3",
   "version": "3.6.7"
  }
 },
 "nbformat": 4,
 "nbformat_minor": 1
}
